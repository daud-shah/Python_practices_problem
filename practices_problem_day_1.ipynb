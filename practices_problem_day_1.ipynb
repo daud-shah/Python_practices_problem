{
 "cells": [
  {
   "cell_type": "markdown",
   "id": "d3abbff3",
   "metadata": {},
   "source": [
    "## *Python Practice Problems* :"
   ]
  },
  {
   "cell_type": "markdown",
   "id": "1b232728",
   "metadata": {},
   "source": [
    "### 1.User will input (3ages).Find the oldest one"
   ]
  },
  {
   "cell_type": "code",
   "execution_count": 6,
   "id": "20440933",
   "metadata": {},
   "outputs": [
    {
     "name": "stdout",
     "output_type": "stream",
     "text": [
      "Enter your age : 34\n",
      "Enter your age : 35\n",
      "Enter your age : 31\n",
      "35 is the oldset man \n"
     ]
    }
   ],
   "source": [
    "# 1st mothed use nasted if else\n",
    "age1 = int(input(\"Enter your age : \"))\n",
    "age2 = int(input(\"Enter your age : \"))\n",
    "age3 = int(input(\"Enter your age : \"))\n",
    "if age1<age2:\n",
    "    if age2>age3:\n",
    "        print(age2,\"is the oldset man \")\n",
    "elif age2<age3:\n",
    "    if age3>age2:\n",
    "        print(age3,\"is the oldset man \")\n",
    "else :\n",
    "    print(age1,\"is the oldset man \")"
   ]
  },
  {
   "cell_type": "code",
   "execution_count": 11,
   "id": "5c74348e",
   "metadata": {},
   "outputs": [
    {
     "name": "stdout",
     "output_type": "stream",
     "text": [
      "Enter you are name : Daud \n",
      "Daud   please enter you are age \n",
      "None21\n",
      "Enter you are name : Amar\n",
      "Amar  please enter you are age \n",
      "None20\n",
      "Enter you are name : Amir\n",
      "Amir  please enter you are age \n",
      "None24\n",
      "Amir  you are oldest man in  Daud    Amar\n"
     ]
    }
   ],
   "source": [
    "# 2nd mothed first use comparing ages, if else  use for name\n",
    "name1 = input(\"Enter you are name : \")\n",
    "age1 = int(input(print(name1,\" please enter you are age \")))\n",
    "name2 = input(\"Enter you are name : \")\n",
    "age2 = int(input(print(name2,\" please enter you are age \")))\n",
    "name3 = input(\"Enter you are name : \")\n",
    "age3 = int(input(print(name3,\" please enter you are age \")))\n",
    "old_age = max(age1,age2,age3)\n",
    "if old_age == age1:\n",
    "    print(name1,\" you are oldest man in \",name2,\" & \",name3)\n",
    "elif old_age == age2:\n",
    "    print(name2,\" you are oldest man in \",name1,\" & \",name3)\n",
    "else :\n",
    "    print(name3,\" you are oldest man in \",name1,\" & \",name2)\n",
    "\n"
   ]
  },
  {
   "cell_type": "code",
   "execution_count": 13,
   "id": "89c032a5",
   "metadata": {},
   "outputs": [
    {
     "name": "stdout",
     "output_type": "stream",
     "text": [
      "Enter your age : 1\n",
      "Enter your age : 2\n",
      "Enter your age : 3\n",
      "3 is the oldset man \n"
     ]
    }
   ],
   "source": [
    "# 3rd mothed if else and (AND) opreation\n",
    "age1 = int(input(\"Enter your age : \"))\n",
    "age2 = int(input(\"Enter your age : \"))\n",
    "age3 = int(input(\"Enter your age : \"))\n",
    "if age1<age2 and age2>age3:\n",
    "    print(age2,\"is the oldset man \")\n",
    "elif age2<age3 and age3>age2:\n",
    "     print(age3,\"is the oldset man \")\n",
    "else :\n",
    "    print(age1,\"is the oldset man \")"
   ]
  },
  {
   "cell_type": "code",
   "execution_count": null,
   "id": "8c01afc9",
   "metadata": {},
   "outputs": [],
   "source": [
    "# 4th mothed use (list and sort function)\n",
    "age1 = int(input(\"Enter your age : \"))\n",
    "age2 = int(input(\"Enter your age : \"))\n",
    "age3 = int(input(\"Enter your age : \"))\n",
    "ages = [age1,age2,age3]\n",
    "sorted_ages = sorted(ages)\n",
    "oldest = sorted_ages[-1]\n",
    "print(\"Oldest man is \", oldest)"
   ]
  },
  {
   "cell_type": "code",
   "execution_count": null,
   "id": "3d526c31",
   "metadata": {},
   "outputs": [],
   "source": [
    "# 5th mothed use (list index)\n",
    "age1 = int(input(\"Enter your age : \"))\n",
    "age2 = int(input(\"Enter your age : \"))\n",
    "age3 = int(input(\"Enter your age : \"))\n",
    "ages = [age1,age2,age3]\n",
    "max_age = ages.index(max(ages))\n",
    "old_man = ages[max_age]\n",
    "print(\"The oldest man is \",old_man)"
   ]
  },
  {
   "cell_type": "markdown",
   "id": "45091f77",
   "metadata": {},
   "source": [
    "## proglem 2 : Write a program that will convert celsius value to fahrenheit"
   ]
  },
  {
   "cell_type": "code",
   "execution_count": null,
   "id": "2bd0222b",
   "metadata": {},
   "outputs": [],
   "source": [
    "celsius = float(input(\"Enter Temperature in Celsius \"))\n",
    "fahrenheit = (celsius*9/5)+32\n",
    "print(\"Temperature in Fahrenheit is :\",fahrenheit)"
   ]
  },
  {
   "cell_type": "code",
   "execution_count": null,
   "id": "1b9d95ff",
   "metadata": {},
   "outputs": [],
   "source": [
    "fahrenheit = float(input(\"Enter Temperature in fahrenheit \"))\n",
    "celsius= (fahrenheit-32)*5/9\n",
    "print(\"Temperature in Celsius is :\",celsius)"
   ]
  }
 ],
 "metadata": {
  "kernelspec": {
   "display_name": "Python 3 (ipykernel)",
   "language": "python",
   "name": "python3"
  },
  "language_info": {
   "codemirror_mode": {
    "name": "ipython",
    "version": 3
   },
   "file_extension": ".py",
   "mimetype": "text/x-python",
   "name": "python",
   "nbconvert_exporter": "python",
   "pygments_lexer": "ipython3",
   "version": "3.11.5"
  }
 },
 "nbformat": 4,
 "nbformat_minor": 5
}
